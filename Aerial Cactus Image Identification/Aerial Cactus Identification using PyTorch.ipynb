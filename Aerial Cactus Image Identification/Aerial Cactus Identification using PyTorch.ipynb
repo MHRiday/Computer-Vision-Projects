{
 "cells": [
  {
   "cell_type": "markdown",
   "metadata": {},
   "source": [
    "### Import Resources"
   ]
  },
  {
   "cell_type": "code",
   "execution_count": null,
   "metadata": {
    "_cell_guid": "b1076dfc-b9ad-4769-8c92-a6c4dae69d19",
    "_uuid": "8f2839f25d086af736a60e9eeb907d3b93b6e0e5"
   },
   "outputs": [],
   "source": [
    "import numpy as np # linear algebra\n",
    "import pandas as pd # data processing, CSV file I/O (e.g. pd.read_csv)\n",
    "import matplotlib.pyplot as plt # data preprocessing\n",
    "import torch\n",
    "import torch.nn.functional as F\n",
    "import torchvision\n",
    "import torchvision.transforms as transforms\n",
    "\n",
    "from torch.utils.data import Dataset, DataLoader\n",
    "from sklearn.model_selection import train_test_split\n",
    "\n",
    "%matplotlib inline\n",
    "\n",
    "import os\n",
    "for dirname, _, filenames in os.walk('/kaggle/input'):\n",
    "    for filename in filenames:\n",
    "        os.path.join(dirname, filename);\n",
    "\n",
    "# Any results you write to the current directory are saved as output."
   ]
  },
  {
   "cell_type": "code",
   "execution_count": null,
   "metadata": {
    "_cell_guid": "79c7e3d0-c299-4dcb-8224-4455121ee9b0",
    "_uuid": "d629ff2d2480ee46fbb7e2d37f6b5fab8052498a"
   },
   "outputs": [],
   "source": [
    "labels = pd.read_csv(\"/kaggle/input/aerial-cactus-identification/train.csv\")\n",
    "submission = pd.read_csv(\"/kaggle/input/aerial-cactus-identification/sample_submission.csv\")\n",
    "\n",
    "train_path = '/kaggle/input/aerial-cactus-identification/train/train/'\n",
    "test_path = '/kaggle/input/aerial-cactus-identification/test/test/'"
   ]
  },
  {
   "cell_type": "code",
   "execution_count": null,
   "metadata": {},
   "outputs": [],
   "source": [
    "labels.head()"
   ]
  },
  {
   "cell_type": "code",
   "execution_count": null,
   "metadata": {},
   "outputs": [],
   "source": [
    "labels['has_cactus'].value_counts()"
   ]
  },
  {
   "cell_type": "code",
   "execution_count": null,
   "metadata": {},
   "outputs": [],
   "source": [
    "label = 'Has Cactus', 'Hasn\\'t Cactus'\n",
    "plt.figure(figsize = (8,8))\n",
    "plt.pie(labels.groupby('has_cactus').size(), labels = label, autopct='%1.1f%%', shadow=True, startangle=90)\n",
    "plt.show()"
   ]
  },
  {
   "cell_type": "code",
   "execution_count": null,
   "metadata": {},
   "outputs": [],
   "source": [
    "import matplotlib.image as img\n",
    "fig,ax = plt.subplots(1,5,figsize = (15,3))\n",
    "\n",
    "for i,idx in enumerate(labels[labels['has_cactus'] == 1]['id'][-5:]):\n",
    "    path = os.path.join(train_path,idx)\n",
    "    ax[i].imshow(img.imread(path))"
   ]
  },
  {
   "cell_type": "code",
   "execution_count": null,
   "metadata": {},
   "outputs": [],
   "source": [
    "fig,ax = plt.subplots(1,5,figsize = (15,3))\n",
    "for i,idx in enumerate(labels[labels['has_cactus'] == 0]['id'][:5]):\n",
    "    path = os.path.join(train_path,idx)\n",
    "    ax[i].imshow(img.imread(path))"
   ]
  },
  {
   "cell_type": "code",
   "execution_count": null,
   "metadata": {},
   "outputs": [],
   "source": [
    "class CactusDataset(Dataset):\n",
    "    def __init__(self, data, path , transform = None):\n",
    "        super().__init__()\n",
    "        self.data = data.values\n",
    "        self.path = path\n",
    "        self.transform = transform\n",
    "        \n",
    "    def __len__(self):\n",
    "        return len(self.data)\n",
    "    \n",
    "    def __getitem__(self,index):\n",
    "        img_name,label = self.data[index]\n",
    "        img_path = os.path.join(self.path, img_name)\n",
    "        image = img.imread(img_path)\n",
    "        if self.transform is not None:\n",
    "            image = self.transform(image)\n",
    "        return image, label\n",
    "        \n",
    "        "
   ]
  },
  {
   "cell_type": "code",
   "execution_count": null,
   "metadata": {},
   "outputs": [],
   "source": [
    "means = [0.485, 0.456, 0.406]\n",
    "std = [0.229, 0.224, 0.225]\n",
    "\n",
    "train_transform = transforms.Compose([transforms.ToPILImage(),\n",
    "                                      transforms.ToTensor(),\n",
    "                                      transforms.Normalize(means,std)])\n",
    "\n",
    "test_transform = transforms.Compose([transforms.ToPILImage(),\n",
    "                                     transforms.ToTensor(),\n",
    "                                     transforms.Normalize(means,std)])\n",
    "\n",
    "valid_transform = transforms.Compose([transforms.ToPILImage(),\n",
    "                                     transforms.ToTensor(),\n",
    "                                     transforms.Normalize(means,std)])\n",
    "                        "
   ]
  },
  {
   "cell_type": "code",
   "execution_count": null,
   "metadata": {},
   "outputs": [],
   "source": [
    "train, valid_data = train_test_split(labels, stratify=labels.has_cactus, test_size=0.2)"
   ]
  },
  {
   "cell_type": "code",
   "execution_count": null,
   "metadata": {},
   "outputs": [],
   "source": [
    "train_data = CactusDataset(train, train_path, train_transform )\n",
    "valid_data = CactusDataset(valid_data, train_path, valid_transform )\n",
    "test_data = CactusDataset(submission, test_path, test_transform )"
   ]
  },
  {
   "cell_type": "code",
   "execution_count": null,
   "metadata": {},
   "outputs": [],
   "source": [
    "train_loader = DataLoader(dataset = train_data, batch_size = batch_size, shuffle=True, num_workers=0)\n",
    "valid_loader = DataLoader(dataset = valid_data, batch_size = batch_size, shuffle=False, num_workers=0)\n",
    "test_loader = DataLoader(dataset = test_data, batch_size = batch_size, shuffle=False, num_workers=0)"
   ]
  },
  {
   "cell_type": "code",
   "execution_count": null,
   "metadata": {},
   "outputs": [],
   "source": [
    "epochs = 50\n",
    "batch_size = 64\n",
    "learning_rate = 0.003\n",
    "device = torch.device('cuda:0' if torch.cuda.is_available() else 'cpu')\n",
    "device"
   ]
  },
  {
   "cell_type": "code",
   "execution_count": null,
   "metadata": {},
   "outputs": [],
   "source": [
    "import torch.nn as nn\n",
    "class CactusCNN(nn.Module):\n",
    "    def __init__(self):\n",
    "        super(CactusCNN,self).__init__()\n",
    "        self.conv1 = nn.Sequential(nn.Conv2d(3, 32, 2, 2, 0),nn. BatchNorm2d(32),nn.ReLU())\n",
    "        # (32 - 2 + 0) / 2 + 1 = 16# 32 * 16 * 16\n",
    "        self.conv2 = nn.Sequential(nn.Conv2d(32,64,2,2,0),nn.BatchNorm2d(64),nn.ReLU())\n",
    "        # (16 - 2 + 0) / 2 + 1 = 8 # 64 * 8 * 8\n",
    "        self.conv3 = nn.Sequential(nn.Conv2d(64, 128, 2, 2,0),nn.BatchNorm2d(128),nn.ReLU())\n",
    "        # (8 - 2 + 0) / 2 + 1 = 4 # 128 * 4 * 4\n",
    "        self.conv4 = nn.Sequential(nn.Conv2d(128,256,4,2,0),nn.BatchNorm2d(256),nn.ReLU())\n",
    "        #(4 - 4 + 0) / 2 + 1 = 1 # 256 * 1 * 1\n",
    "        self.fc = nn.Sequential(nn.Linear(256 * 1 * 1, 512),nn.ReLU(),nn.Dropout(0.2),nn.Linear(512, 128),\n",
    "                                nn.ReLU(),\n",
    "                                nn.Dropout(0.3),\n",
    "                                nn.Linear(128,2))\n",
    "    def forward(self,x):\n",
    "        x = self.conv1(x)\n",
    "        x = self.conv2(x)\n",
    "        x = self.conv3(x)\n",
    "        x = self.conv4(x)\n",
    "        #flatten the image\n",
    "        x = x.view(x.shape[0],-1)\n",
    "        x = self.fc(x)\n",
    "        return x\n",
    "                    "
   ]
  },
  {
   "cell_type": "code",
   "execution_count": null,
   "metadata": {},
   "outputs": [],
   "source": [
    "model = CactusCNN().to(device)\n",
    "criterion = nn.CrossEntropyLoss()\n",
    "optimizer = torch.optim.Adam(model.parameters(),lr = learning_rate)"
   ]
  },
  {
   "cell_type": "code",
   "execution_count": null,
   "metadata": {},
   "outputs": [],
   "source": [
    "# Training the mode\n",
    "for epoch in range(epochs):\n",
    "    for i,(images,labels) in enumerate(train_loader):\n",
    "        images = images.to(device)\n",
    "        labels = labels.to(device)\n",
    "        \n",
    "        \n",
    "        pred = model(images)\n",
    "        loss = criterion(pred, labels)\n",
    "        \n",
    "        optimizer.zero_grad()\n",
    "        loss.backward()\n",
    "        optimizer.step()\n",
    "    print('Epoch: {}/{}, Loss: {}'.format(epoch+1, epochs, loss.item()))\n",
    "        "
   ]
  },
  {
   "cell_type": "code",
   "execution_count": null,
   "metadata": {},
   "outputs": [],
   "source": [
    "model.eval()\n",
    "with torch.no_grad():\n",
    "    correct = 0\n",
    "    total = 0\n",
    "    for images, labels in valid_loader:\n",
    "        images = images.to(device)\n",
    "        labels = labels.to(device)\n",
    "        \n",
    "        preds = model(images)\n",
    "        _, predicted = torch.max(preds.data, 1)\n",
    "        total += labels.size(0)\n",
    "        correct += (labels == predicted).sum().item()\n",
    "    print('Test Accuracy {} %'.format(100 * correct / total))"
   ]
  },
  {
   "cell_type": "code",
   "execution_count": null,
   "metadata": {},
   "outputs": [],
   "source": [
    "model.eval()\n",
    "predict = []\n",
    "for batch_i, (data, target) in enumerate(test_loader):\n",
    "    data, target = data.to(device), target.to(device)\n",
    "    output = model(data)\n",
    "\n",
    "    pred = output[:,1].detach().cpu().numpy()\n",
    "    for i in pred:\n",
    "        predict.append(i)\n",
    "\n",
    "submission['has_cactus'] = predict\n",
    "submission.to_csv('submission.csv', index=False)"
   ]
  }
 ],
 "metadata": {
  "kernelspec": {
   "display_name": "Python 3",
   "language": "python",
   "name": "python3"
  },
  "language_info": {
   "codemirror_mode": {
    "name": "ipython",
    "version": 3
   },
   "file_extension": ".py",
   "mimetype": "text/x-python",
   "name": "python",
   "nbconvert_exporter": "python",
   "pygments_lexer": "ipython3",
   "version": "3.7.0"
  }
 },
 "nbformat": 4,
 "nbformat_minor": 1
}
